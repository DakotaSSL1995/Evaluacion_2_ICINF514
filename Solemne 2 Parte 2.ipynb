{
 "cells": [
  {
   "cell_type": "markdown",
   "id": "1e158159",
   "metadata": {},
   "source": [
    "# ENCARGO UNIDAD 2 PARTE 2\n",
    "\n",
    "\n",
    "\n",
    "---\n",
    "\n",
    "* Nombre: Daniela Ponce"
   ]
  },
  {
   "cell_type": "markdown",
   "id": "d79892a9",
   "metadata": {},
   "source": [
    "# Sección 1 - Agrupamiento Jerárquico\n",
    "\n",
    "\n",
    "\n",
    "---\n",
    "\n"
   ]
  }
 ],
 "metadata": {
  "kernelspec": {
   "display_name": "Python 3",
   "language": "python",
   "name": "python3"
  },
  "language_info": {
   "codemirror_mode": {
    "name": "ipython",
    "version": 3
   },
   "file_extension": ".py",
   "mimetype": "text/x-python",
   "name": "python",
   "nbconvert_exporter": "python",
   "pygments_lexer": "ipython3",
   "version": "3.9.5"
  }
 },
 "nbformat": 4,
 "nbformat_minor": 5
}
