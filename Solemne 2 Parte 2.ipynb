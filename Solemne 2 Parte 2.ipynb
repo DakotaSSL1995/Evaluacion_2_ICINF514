{
 "cells": [
  {
   "cell_type": "markdown",
   "id": "1e158159",
   "metadata": {},
   "source": [
    "# ENCARGO UNIDAD 2 PARTE 2\n",
    "\n",
    "\n",
    "\n",
    "---\n",
    "\n",
    "* Nombre: Daniela Ponce"
   ]
  },
  {
   "cell_type": "markdown",
   "id": "d79892a9",
   "metadata": {},
   "source": [
    "# Sección 1 - Agrupamiento Jerárquico\n",
    "\n",
    "\n",
    "\n",
    "---\n",
    "\n",
    "Se utilizo el dataset wine limpiado previamente para este ejercicio."
   ]
  },
  {
   "cell_type": "markdown",
   "id": "05def72b",
   "metadata": {},
   "source": [
    "Se cargan las librerias."
   ]
  },
  {
   "cell_type": "code",
   "execution_count": 1,
   "id": "d31f4715",
   "metadata": {},
   "outputs": [],
   "source": [
    "import pandas as pd\n",
    "import matplotlib.pyplot as plt\n",
    "from sklearn import preprocessing\n",
    "import scipy.cluster.hierarchy as shc\n",
    "from sklearn.cluster import AgglomerativeClustering"
   ]
  },
  {
   "cell_type": "markdown",
   "id": "dfe60932",
   "metadata": {},
   "source": [
    "Se cargan los datos"
   ]
  },
  {
   "cell_type": "code",
   "execution_count": 4,
   "id": "ca0afbfb",
   "metadata": {},
   "outputs": [],
   "source": [
    "data2 = pd.read_csv('Wine1.csv')"
   ]
  },
  {
   "cell_type": "code",
   "execution_count": 5,
   "id": "32e09d17",
   "metadata": {},
   "outputs": [
    {
     "data": {
      "text/plain": [
       "(178, 13)"
      ]
     },
     "execution_count": 5,
     "metadata": {},
     "output_type": "execute_result"
    }
   ],
   "source": [
    "data2.shape"
   ]
  },
  {
   "cell_type": "code",
   "execution_count": 6,
   "id": "0c2e8944",
   "metadata": {},
   "outputs": [
    {
     "data": {
      "text/plain": [
       "Alcohol                 0\n",
       "Malic_Acid              0\n",
       "Ash                     0\n",
       "Ash_Alcanity            0\n",
       "Magnesium               0\n",
       "Total_Phenols           0\n",
       "Flavanoids              0\n",
       "Nonflavanoid_Phenols    0\n",
       "Proanthocyanins         0\n",
       "Color_Intensity         0\n",
       "Hue                     0\n",
       "OD280                   0\n",
       "Proline                 0\n",
       "dtype: int64"
      ]
     },
     "execution_count": 6,
     "metadata": {},
     "output_type": "execute_result"
    }
   ],
   "source": [
    "data2.isnull().sum()"
   ]
  },
  {
   "cell_type": "code",
   "execution_count": 7,
   "id": "4ba3e164",
   "metadata": {},
   "outputs": [
    {
     "data": {
      "text/plain": [
       "Alcohol                 float64\n",
       "Malic_Acid              float64\n",
       "Ash                     float64\n",
       "Ash_Alcanity            float64\n",
       "Magnesium                 int64\n",
       "Total_Phenols           float64\n",
       "Flavanoids              float64\n",
       "Nonflavanoid_Phenols    float64\n",
       "Proanthocyanins         float64\n",
       "Color_Intensity         float64\n",
       "Hue                     float64\n",
       "OD280                   float64\n",
       "Proline                   int64\n",
       "dtype: object"
      ]
     },
     "execution_count": 7,
     "metadata": {},
     "output_type": "execute_result"
    }
   ],
   "source": [
    "data2.dtypes"
   ]
  },
  {
   "cell_type": "code",
   "execution_count": 8,
   "id": "2d84f994",
   "metadata": {},
   "outputs": [
    {
     "data": {
      "text/html": [
       "<div>\n",
       "<style scoped>\n",
       "    .dataframe tbody tr th:only-of-type {\n",
       "        vertical-align: middle;\n",
       "    }\n",
       "\n",
       "    .dataframe tbody tr th {\n",
       "        vertical-align: top;\n",
       "    }\n",
       "\n",
       "    .dataframe thead th {\n",
       "        text-align: right;\n",
       "    }\n",
       "</style>\n",
       "<table border=\"1\" class=\"dataframe\">\n",
       "  <thead>\n",
       "    <tr style=\"text-align: right;\">\n",
       "      <th></th>\n",
       "      <th>Alcohol</th>\n",
       "      <th>Malic_Acid</th>\n",
       "      <th>Ash</th>\n",
       "      <th>Ash_Alcanity</th>\n",
       "      <th>Magnesium</th>\n",
       "      <th>Total_Phenols</th>\n",
       "      <th>Flavanoids</th>\n",
       "      <th>Nonflavanoid_Phenols</th>\n",
       "      <th>Proanthocyanins</th>\n",
       "      <th>Color_Intensity</th>\n",
       "      <th>Hue</th>\n",
       "      <th>OD280</th>\n",
       "      <th>Proline</th>\n",
       "    </tr>\n",
       "  </thead>\n",
       "  <tbody>\n",
       "    <tr>\n",
       "      <th>0</th>\n",
       "      <td>14.23</td>\n",
       "      <td>1.71</td>\n",
       "      <td>2.43</td>\n",
       "      <td>15.6</td>\n",
       "      <td>127</td>\n",
       "      <td>2.80</td>\n",
       "      <td>3.06</td>\n",
       "      <td>0.28</td>\n",
       "      <td>2.29</td>\n",
       "      <td>5.64</td>\n",
       "      <td>1.04</td>\n",
       "      <td>3.92</td>\n",
       "      <td>1065</td>\n",
       "    </tr>\n",
       "    <tr>\n",
       "      <th>1</th>\n",
       "      <td>13.20</td>\n",
       "      <td>1.78</td>\n",
       "      <td>2.14</td>\n",
       "      <td>11.2</td>\n",
       "      <td>100</td>\n",
       "      <td>2.65</td>\n",
       "      <td>2.76</td>\n",
       "      <td>0.26</td>\n",
       "      <td>1.28</td>\n",
       "      <td>4.38</td>\n",
       "      <td>1.05</td>\n",
       "      <td>3.40</td>\n",
       "      <td>1050</td>\n",
       "    </tr>\n",
       "    <tr>\n",
       "      <th>2</th>\n",
       "      <td>13.16</td>\n",
       "      <td>2.36</td>\n",
       "      <td>2.67</td>\n",
       "      <td>18.6</td>\n",
       "      <td>101</td>\n",
       "      <td>2.80</td>\n",
       "      <td>3.24</td>\n",
       "      <td>0.30</td>\n",
       "      <td>2.81</td>\n",
       "      <td>5.68</td>\n",
       "      <td>1.03</td>\n",
       "      <td>3.17</td>\n",
       "      <td>1185</td>\n",
       "    </tr>\n",
       "    <tr>\n",
       "      <th>3</th>\n",
       "      <td>14.37</td>\n",
       "      <td>1.95</td>\n",
       "      <td>2.50</td>\n",
       "      <td>16.8</td>\n",
       "      <td>113</td>\n",
       "      <td>3.85</td>\n",
       "      <td>3.49</td>\n",
       "      <td>0.24</td>\n",
       "      <td>2.18</td>\n",
       "      <td>7.80</td>\n",
       "      <td>0.86</td>\n",
       "      <td>3.45</td>\n",
       "      <td>1480</td>\n",
       "    </tr>\n",
       "    <tr>\n",
       "      <th>4</th>\n",
       "      <td>13.24</td>\n",
       "      <td>2.59</td>\n",
       "      <td>2.87</td>\n",
       "      <td>21.0</td>\n",
       "      <td>118</td>\n",
       "      <td>2.80</td>\n",
       "      <td>2.69</td>\n",
       "      <td>0.39</td>\n",
       "      <td>1.82</td>\n",
       "      <td>4.32</td>\n",
       "      <td>1.04</td>\n",
       "      <td>2.93</td>\n",
       "      <td>735</td>\n",
       "    </tr>\n",
       "    <tr>\n",
       "      <th>5</th>\n",
       "      <td>14.20</td>\n",
       "      <td>1.76</td>\n",
       "      <td>2.45</td>\n",
       "      <td>15.2</td>\n",
       "      <td>112</td>\n",
       "      <td>3.27</td>\n",
       "      <td>3.39</td>\n",
       "      <td>0.34</td>\n",
       "      <td>1.97</td>\n",
       "      <td>6.75</td>\n",
       "      <td>1.05</td>\n",
       "      <td>2.85</td>\n",
       "      <td>1450</td>\n",
       "    </tr>\n",
       "    <tr>\n",
       "      <th>6</th>\n",
       "      <td>14.39</td>\n",
       "      <td>1.87</td>\n",
       "      <td>2.45</td>\n",
       "      <td>14.6</td>\n",
       "      <td>96</td>\n",
       "      <td>2.50</td>\n",
       "      <td>2.52</td>\n",
       "      <td>0.30</td>\n",
       "      <td>1.98</td>\n",
       "      <td>5.25</td>\n",
       "      <td>1.02</td>\n",
       "      <td>3.58</td>\n",
       "      <td>1290</td>\n",
       "    </tr>\n",
       "    <tr>\n",
       "      <th>7</th>\n",
       "      <td>14.06</td>\n",
       "      <td>2.15</td>\n",
       "      <td>2.61</td>\n",
       "      <td>17.6</td>\n",
       "      <td>121</td>\n",
       "      <td>2.60</td>\n",
       "      <td>2.51</td>\n",
       "      <td>0.31</td>\n",
       "      <td>1.25</td>\n",
       "      <td>5.05</td>\n",
       "      <td>1.06</td>\n",
       "      <td>3.58</td>\n",
       "      <td>1295</td>\n",
       "    </tr>\n",
       "    <tr>\n",
       "      <th>8</th>\n",
       "      <td>14.83</td>\n",
       "      <td>1.64</td>\n",
       "      <td>2.17</td>\n",
       "      <td>14.0</td>\n",
       "      <td>97</td>\n",
       "      <td>2.80</td>\n",
       "      <td>2.98</td>\n",
       "      <td>0.29</td>\n",
       "      <td>1.98</td>\n",
       "      <td>5.20</td>\n",
       "      <td>1.08</td>\n",
       "      <td>2.85</td>\n",
       "      <td>1045</td>\n",
       "    </tr>\n",
       "    <tr>\n",
       "      <th>9</th>\n",
       "      <td>13.86</td>\n",
       "      <td>1.35</td>\n",
       "      <td>2.27</td>\n",
       "      <td>16.0</td>\n",
       "      <td>98</td>\n",
       "      <td>2.98</td>\n",
       "      <td>3.15</td>\n",
       "      <td>0.22</td>\n",
       "      <td>1.85</td>\n",
       "      <td>7.22</td>\n",
       "      <td>1.01</td>\n",
       "      <td>3.55</td>\n",
       "      <td>1045</td>\n",
       "    </tr>\n",
       "  </tbody>\n",
       "</table>\n",
       "</div>"
      ],
      "text/plain": [
       "   Alcohol  Malic_Acid   Ash  Ash_Alcanity  Magnesium  Total_Phenols  \\\n",
       "0    14.23        1.71  2.43          15.6        127           2.80   \n",
       "1    13.20        1.78  2.14          11.2        100           2.65   \n",
       "2    13.16        2.36  2.67          18.6        101           2.80   \n",
       "3    14.37        1.95  2.50          16.8        113           3.85   \n",
       "4    13.24        2.59  2.87          21.0        118           2.80   \n",
       "5    14.20        1.76  2.45          15.2        112           3.27   \n",
       "6    14.39        1.87  2.45          14.6         96           2.50   \n",
       "7    14.06        2.15  2.61          17.6        121           2.60   \n",
       "8    14.83        1.64  2.17          14.0         97           2.80   \n",
       "9    13.86        1.35  2.27          16.0         98           2.98   \n",
       "\n",
       "   Flavanoids  Nonflavanoid_Phenols  Proanthocyanins  Color_Intensity   Hue  \\\n",
       "0        3.06                  0.28             2.29             5.64  1.04   \n",
       "1        2.76                  0.26             1.28             4.38  1.05   \n",
       "2        3.24                  0.30             2.81             5.68  1.03   \n",
       "3        3.49                  0.24             2.18             7.80  0.86   \n",
       "4        2.69                  0.39             1.82             4.32  1.04   \n",
       "5        3.39                  0.34             1.97             6.75  1.05   \n",
       "6        2.52                  0.30             1.98             5.25  1.02   \n",
       "7        2.51                  0.31             1.25             5.05  1.06   \n",
       "8        2.98                  0.29             1.98             5.20  1.08   \n",
       "9        3.15                  0.22             1.85             7.22  1.01   \n",
       "\n",
       "   OD280  Proline  \n",
       "0   3.92     1065  \n",
       "1   3.40     1050  \n",
       "2   3.17     1185  \n",
       "3   3.45     1480  \n",
       "4   2.93      735  \n",
       "5   2.85     1450  \n",
       "6   3.58     1290  \n",
       "7   3.58     1295  \n",
       "8   2.85     1045  \n",
       "9   3.55     1045  "
      ]
     },
     "execution_count": 8,
     "metadata": {},
     "output_type": "execute_result"
    }
   ],
   "source": [
    "data2.head(10)"
   ]
  },
  {
   "cell_type": "markdown",
   "id": "9391b67f",
   "metadata": {},
   "source": [
    "Aqui se selecionan algunos datos al azar para posteriormente verificar el clúster al que pertenecen"
   ]
  },
  {
   "cell_type": "code",
   "execution_count": 9,
   "id": "8f5dd51d",
   "metadata": {},
   "outputs": [],
   "source": [
    "indices = [26, 110, 176]\n",
    "muestras = pd.DataFrame(data2.loc[indices], \n",
    "columns = data2.keys()).reset_index(drop = True)"
   ]
  },
  {
   "cell_type": "markdown",
   "id": "92ba116d",
   "metadata": {},
   "source": [
    "Se realiza el escalamiento de datos"
   ]
  },
  {
   "cell_type": "code",
   "execution_count": 10,
   "id": "7baf50fd",
   "metadata": {},
   "outputs": [],
   "source": [
    "data_escalada = preprocessing.Normalizer().fit_transform(data2)\n",
    "muestras_escalada = preprocessing.Normalizer().fit_transform(muestras)"
   ]
  },
  {
   "cell_type": "markdown",
   "id": "9220dd47",
   "metadata": {},
   "source": [
    "### ANÁLISIS DE MACHINE LEARNING ###\n",
    "\n",
    "Se determina las variables a evaluar"
   ]
  },
  {
   "cell_type": "code",
   "execution_count": 11,
   "id": "01b9801b",
   "metadata": {},
   "outputs": [],
   "source": [
    "X = data_escalada"
   ]
  },
  {
   "cell_type": "code",
   "execution_count": 13,
   "id": "15c40353",
   "metadata": {},
   "outputs": [
    {
     "data": {
      "image/png": "[encoded data removed]",
      "text/plain": [
       "<Figure size 720x504 with 1 Axes>"
      ]
     },
     "metadata": {
      "needs_background": "light"
     },
     "output_type": "display_data"
    }
   ],
   "source": [
    "plt.figure(figsize=(10, 7))  \n",
    "plt.title(\"Dendrogramas\") \n",
    "dendrograma = shc.dendrogram(shc.linkage(X, method = 'ward'))"
   ]
  },
  {
   "cell_type": "markdown",
   "id": "7df2f49b",
   "metadata": {},
   "source": [
    "El dendrograma nos permite visualizar que en grupo de datos de colores narajan se encuntra mas apartado del resto de los datos, tambien podemos obsersar que la distancia de entre los puntos entre los grupos 3 grupos verdes es similar a la distancia entre la combinacion de estos y el grupo naranja. Despues de analizar las distancian entre los grupos de datos se tomo la decision de que 'K' tenga el valor de 3 al existir una mayor distancia entre los grupos."
   ]
  },
  {
   "cell_type": "markdown",
   "id": "501eca50",
   "metadata": {},
   "source": [
    "Definir el algoritmo junto con el valor de K"
   ]
  },
  {
   "cell_type": "code",
   "execution_count": 20,
   "id": "ecdb9804",
   "metadata": {},
   "outputs": [],
   "source": [
    "algoritmo = AgglomerativeClustering(n_clusters = 3, \n",
    "                                    affinity='euclidean', linkage='ward')"
   ]
  },
  {
   "cell_type": "markdown",
   "id": "feb39dce",
   "metadata": {},
   "source": [
    "Entrenar el Algoritmo"
   ]
  },
  {
   "cell_type": "code",
   "execution_count": 21,
   "id": "92e1dc21",
   "metadata": {},
   "outputs": [],
   "source": [
    "algoritmo.fit(X)\n",
    "pred1 = algoritmo.fit_predict(X)"
   ]
  },
  {
   "cell_type": "markdown",
   "id": "35c0c959",
   "metadata": {},
   "source": [
    "Utilicemos los datos de muestras y verifiquemos en que cluster se encuentran"
   ]
  },
  {
   "cell_type": "code",
   "execution_count": 22,
   "id": "9aef9feb",
   "metadata": {},
   "outputs": [
    {
     "name": "stdout",
     "output_type": "stream",
     "text": [
      "Muestra 0 se encuentra en el clúster: 1\n",
      "Muestra 1 se encuentra en el clúster: 2\n",
      "Muestra 2 se encuentra en el clúster: 0\n"
     ]
    }
   ],
   "source": [
    "muestra_prediccion = algoritmo.fit_predict(muestras_escalada)\n",
    "\n",
    "for i, pred in enumerate(muestra_prediccion):\n",
    "    print( \"Muestra\", i, \"se encuentra en el clúster:\", pred)"
   ]
  },
  {
   "cell_type": "markdown",
   "id": "58035555",
   "metadata": {},
   "source": [
    "El medolo Jerarquico adiferencia del metodo Kmeans no suele usarse con muestras muy grandes debido a que es sensible a los valores atipicos, mientras el otro metodo usa valores medios. El metodo de jerarquico se pueden encontrar similitudes atraves de caracteristicas innesperadas, mientras Kmeans es mas facil de implementar indenpendiente del tamaño del Dataset. Ambas tecnicas nos dieron como resultado una cantidad distintas de clusters tomando en cuenta este dato se es posible afirmar el que datos comparados en el metodo Kmeans sean mas acertivos que los datos por el metodo Jerarquico.  "
   ]
  }
 ],
 "metadata": {
  "kernelspec": {
   "display_name": "Python 3",
   "language": "python",
   "name": "python3"
  },
  "language_info": {
   "codemirror_mode": {
    "name": "ipython",
    "version": 3
   },
   "file_extension": ".py",
   "mimetype": "text/x-python",
   "name": "python",
   "nbconvert_exporter": "python",
   "pygments_lexer": "ipython3",
   "version": "3.9.5"
  }
 },
 "nbformat": 4,
 "nbformat_minor": 5
}
